{
 "cells": [
  {
   "cell_type": "markdown",
   "metadata": {},
   "source": [
    "https://www.investopedia.com/ask/answers/041515/how-do-you-interpret-magnitude-covariance-between-two-variables.asp"
   ]
  },
  {
   "cell_type": "code",
   "execution_count": 39,
   "metadata": {},
   "outputs": [],
   "source": [
    "import numpy as np\n",
    "import random"
   ]
  },
  {
   "cell_type": "code",
   "execution_count": 13,
   "metadata": {},
   "outputs": [
    {
     "data": {
      "text/plain": [
       "833.25"
      ]
     },
     "execution_count": 13,
     "metadata": {},
     "output_type": "execute_result"
    }
   ],
   "source": [
    "# Positive Covariance\n",
    "x = np.array(list(range(1, 101)))\n",
    "y = np.array(list(range(1, 101)))\n",
    "np.mean((x-np.mean(x))  * ( y-np.mean(y)))"
   ]
  },
  {
   "cell_type": "code",
   "execution_count": 37,
   "metadata": {},
   "outputs": [
    {
     "data": {
      "text/plain": [
       "-833.25"
      ]
     },
     "execution_count": 37,
     "metadata": {},
     "output_type": "execute_result"
    }
   ],
   "source": [
    "# Negative Covariance\n",
    "x = np.array( list(range(1, 101)))\n",
    "y = np.array( list(range(100, 0,-1)) )\n",
    "np.mean( (x-np.mean(x))  * ( y-np.mean(y)) )"
   ]
  },
  {
   "cell_type": "code",
   "execution_count": 48,
   "metadata": {},
   "outputs": [
    {
     "data": {
      "text/plain": [
       "-30.8"
      ]
     },
     "execution_count": 48,
     "metadata": {},
     "output_type": "execute_result"
    }
   ],
   "source": [
    "# Independece\n",
    "x = np.array( list(range(1, 101)))\n",
    "y = np.array( list(range(1, 101)))\n",
    "\n",
    "random.shuffle(x)\n",
    "random.shuffle(y)\n",
    "\n",
    "np.mean( (x-np.mean(x))  * ( y-np.mean(y)) )"
   ]
  }
 ],
 "metadata": {
  "kernelspec": {
   "display_name": "Python 3",
   "language": "python",
   "name": "python3"
  },
  "language_info": {
   "codemirror_mode": {
    "name": "ipython",
    "version": 3
   },
   "file_extension": ".py",
   "mimetype": "text/x-python",
   "name": "python",
   "nbconvert_exporter": "python",
   "pygments_lexer": "ipython3",
   "version": "3.7.4"
  }
 },
 "nbformat": 4,
 "nbformat_minor": 2
}
