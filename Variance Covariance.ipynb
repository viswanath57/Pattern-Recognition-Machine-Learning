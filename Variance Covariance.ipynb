{
 "cells": [
  {
   "cell_type": "markdown",
   "metadata": {},
   "source": [
    "https://www.investopedia.com/ask/answers/041515/how-do-you-interpret-magnitude-covariance-between-two-variables.asp"
   ]
  },
  {
   "cell_type": "code",
   "execution_count": 2,
   "metadata": {},
   "outputs": [],
   "source": [
    "import numpy as np\n",
    "import random"
   ]
  },
  {
   "cell_type": "code",
   "execution_count": 3,
   "metadata": {},
   "outputs": [
    {
     "data": {
      "text/plain": [
       "833.25"
      ]
     },
     "execution_count": 3,
     "metadata": {},
     "output_type": "execute_result"
    }
   ],
   "source": [
    "# Positive Covariance\n",
    "x = np.array(list(range(1, 101)))\n",
    "y = np.array(list(range(1, 101)))\n",
    "np.mean(\n",
    "    (x-np.mean(x))  \n",
    "    * \n",
    "    ( y-np.mean(y))\n",
    "    )"
   ]
  },
  {
   "cell_type": "code",
   "execution_count": 4,
   "metadata": {},
   "outputs": [
    {
     "data": {
      "text/plain": [
       "-833.25"
      ]
     },
     "execution_count": 4,
     "metadata": {},
     "output_type": "execute_result"
    }
   ],
   "source": [
    "# Negative Covariance\n",
    "x = np.array( list(range(1, 101)))\n",
    "y = np.array( list(range(100, 0,-1)) )\n",
    "np.mean( (x-np.mean(x))  * ( y-np.mean(y)) )"
   ]
  },
  {
   "cell_type": "code",
   "execution_count": 5,
   "metadata": {},
   "outputs": [
    {
     "data": {
      "text/plain": [
       "-160.77"
      ]
     },
     "execution_count": 5,
     "metadata": {},
     "output_type": "execute_result"
    }
   ],
   "source": [
    "# Independece\n",
    "x = np.array( list(range(1, 101)))\n",
    "y = np.array( list(range(1, 101)))\n",
    "\n",
    "random.shuffle(x)\n",
    "random.shuffle(y)\n",
    "\n",
    "np.mean( (x-np.mean(x))  * ( y-np.mean(y)) )"
   ]
  },
  {
   "cell_type": "markdown",
   "metadata": {},
   "source": [
    "E [ { X - MEAN(X) } * {Y-MEAN(Y) } )]\n",
    "\n",
    "By moving X from its ceter either left or right, we are observing how Y is moving.\n",
    "\n",
    "With increase in X, if Y is also increasing then we say X & Y has positive co-variance. With decrease in X, if Y is also decreasing then we say X & Y has positive co-variance.\n",
    "\n",
    "With increase in X, if Y is decreasing then we say X & Y has negative co-variance. With decrease in X, if Y is increasing then we say X & Y has negative co-variance.\n",
    "\n",
    "With increase/decrease in X, if we can't say anything about Y then we say X & Y are independent\n",
    "\n"
   ]
  },
  {
   "cell_type": "code",
   "execution_count": null,
   "metadata": {},
   "outputs": [],
   "source": []
  },
  {
   "cell_type": "code",
   "execution_count": null,
   "metadata": {},
   "outputs": [],
   "source": []
  }
 ],
 "metadata": {
  "kernelspec": {
   "display_name": "Python 3",
   "language": "python",
   "name": "python3"
  },
  "language_info": {
   "codemirror_mode": {
    "name": "ipython",
    "version": 3
   },
   "file_extension": ".py",
   "mimetype": "text/x-python",
   "name": "python",
   "nbconvert_exporter": "python",
   "pygments_lexer": "ipython3",
   "version": "3.7.4"
  }
 },
 "nbformat": 4,
 "nbformat_minor": 2
}
